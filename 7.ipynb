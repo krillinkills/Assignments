{
 "cells": [
  {
   "cell_type": "code",
   "execution_count": 1,
   "id": "d38eca42",
   "metadata": {},
   "outputs": [
    {
     "name": "stdout",
     "output_type": "stream",
     "text": [
      "Input vector \n",
      " [ 5  7  9 11] \n",
      "\n",
      "Output Matrix , when boolean argument is True: \n",
      " [[    1     5    25   125   625]\n",
      " [    1     7    49   343  2401]\n",
      " [    1     9    81   729  6561]\n",
      " [    1    11   121  1331 14641]] \n",
      "\n",
      "Output Matrix , when boolean argument is False: \n",
      " [[  625   125    25     5     1]\n",
      " [ 2401   343    49     7     1]\n",
      " [ 6561   729    81     9     1]\n",
      " [14641  1331   121    11     1]]\n"
     ]
    }
   ],
   "source": [
    "import numpy as num_py\n",
    "\n",
    "def matrix_Vandermonde(input_vector,n,bool_arg):\n",
    "    \n",
    "    output_matrix=num_py.vander(x=input_vector,N=n,increasing=bool_arg)\n",
    "    return output_matrix\n",
    "\n",
    "input_vector = num_py.arange(5,13,2)   \n",
    "n = 5                                  \n",
    "bool_arg_T = True                     \n",
    "bool_arg_F = False                     \n",
    "\n",
    "out_matrix_True=matrix_Vandermonde(input_vector,n,bool_arg_T)\n",
    "\n",
    "out_matrix_False=matrix_Vandermonde(input_vector,n,bool_arg_F)\n",
    "\n",
    "print(\"Input vector \\n\",input_vector,\"\\n\")\n",
    "print(\"Output Matrix , when boolean argument is True: \\n\",out_matrix_True,\"\\n\")\n",
    "print(\"Output Matrix , when boolean argument is False: \\n\",out_matrix_False)"
   ]
  },
  {
   "cell_type": "code",
   "execution_count": null,
   "id": "8b9c05a5",
   "metadata": {},
   "outputs": [],
   "source": []
  },
  {
   "cell_type": "code",
   "execution_count": null,
   "id": "0d35a868",
   "metadata": {},
   "outputs": [],
   "source": []
  }
 ],
 "metadata": {
  "kernelspec": {
   "display_name": "Python 3",
   "language": "python",
   "name": "python3"
  },
  "language_info": {
   "codemirror_mode": {
    "name": "ipython",
    "version": 3
   },
   "file_extension": ".py",
   "mimetype": "text/x-python",
   "name": "python",
   "nbconvert_exporter": "python",
   "pygments_lexer": "ipython3",
   "version": "3.8.8"
  }
 },
 "nbformat": 4,
 "nbformat_minor": 5
}
